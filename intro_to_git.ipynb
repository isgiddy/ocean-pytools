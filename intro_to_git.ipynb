{
 "cells": [
  {
   "cell_type": "markdown",
   "metadata": {},
   "source": [
    "# Getting comfortable with git"
   ]
  },
  {
   "cell_type": "markdown",
   "metadata": {},
   "source": [
    "We will be working through jupyter lab. The first step is to ensure that [jupyterlab](https://jupyter.org/install) is installed and working on your operating system"
   ]
  },
  {
   "cell_type": "markdown",
   "metadata": {},
   "source": [
    "## Summary of useful Git commands"
   ]
  },
  {
   "cell_type": "markdown",
   "metadata": {},
   "source": [
    "In the terminal in jupyter lab\n",
    "\n",
    "Set up your username and email"
   ]
  },
  {
   "cell_type": "markdown",
   "metadata": {},
   "source": [
    "```\n",
    "git config --global user.name \"Isabelle Giddy\"  \n",
    "git config --global user.email \"isgiddy@gmail.com\"\n",
    "```"
   ]
  },
  {
   "cell_type": "markdown",
   "metadata": {},
   "source": [
    "Create a new repository"
   ]
  },
  {
   "cell_type": "markdown",
   "metadata": {},
   "source": [
    "```\n",
    "cd my_project\n",
    "git init \n",
    "```"
   ]
  },
  {
   "cell_type": "markdown",
   "metadata": {},
   "source": [
    "Stage files for addition to the repository:"
   ]
  },
  {
   "cell_type": "markdown",
   "metadata": {},
   "source": [
    "```\n",
    "git add <filenames>\n",
    "```"
   ]
  },
  {
   "cell_type": "markdown",
   "metadata": {},
   "source": [
    "Commit staged files:"
   ]
  },
  {
   "cell_type": "markdown",
   "metadata": {},
   "source": [
    "```\n",
    "git commit -m \"your brief commit message goes here\"\n",
    "\n",
    "common commit syntax:\n",
    "\"fix:<describe the fix>\"\n",
    "\"update:<describe the update>\"\n",
    "\"feat:<describe the new feature>\"\n",
    "```"
   ]
  },
  {
   "cell_type": "markdown",
   "metadata": {},
   "source": [
    "Get information about your repository:"
   ]
  },
  {
   "cell_type": "markdown",
   "metadata": {},
   "source": [
    "```\n",
    "git status    # tells you what files are staged, which ones have been modified, are new,... )\n",
    "git log       # view the commit log\n",
    "git diff      # view file content differences\n",
    "```"
   ]
  },
  {
   "cell_type": "markdown",
   "metadata": {},
   "source": [
    "Revert a file to an earlier version:"
   ]
  },
  {
   "cell_type": "markdown",
   "metadata": {},
   "source": [
    "```\n",
    "git checkout <commit tag> <filenames>\n",
    "```"
   ]
  },
  {
   "cell_type": "markdown",
   "metadata": {},
   "source": [
    "Collaborating with Git and Github\n",
    "\n",
    "    - Create a new repository on GitHub  \n",
    "    - Follow the instructions and run git remote add origin <repo url> on your local repo\n",
    "    - make your changes and stage them with git add,\n",
    "    - commit your changes with git commit -m, and\n",
    "    - upload the changes to GitHub with git push origin main\n",
    "    - update your local repo with git pull origin main\n"
   ]
  },
  {
   "cell_type": "markdown",
   "metadata": {},
   "source": [
    "## Practice"
   ]
  },
  {
   "cell_type": "markdown",
   "metadata": {},
   "source": [
    "Create your own resume repository\n",
    "\n",
    "Use JupyterLab to launch a terminal and use the terminal to do the following tasks:\n",
    "\n",
    "    Create a new directory called resume within your home directory\n",
    "    Create an empty file within this directory called Readme.md\n",
    "\n",
    "Now use JupyterLab to edit the file:\n",
    "\n",
    "    Navigate to the directory in the file browser\n",
    "    Open Readme.md in the text editor\n",
    "    Open Readme.md in in Markdown Preview\n",
    "    Arrange these files side-by-side so you can see your document rendered\n",
    "\n",
    "    Edit the file in the editor. Add the following information:\n",
    "        Top level heading with your name\n",
    "        An image. It can be a photo of you or, if you prefer, a photo of your spirit animal.\n",
    "        Secondary heading entitled “Position and affiliation”\n",
    "        Add the relevant information\n",
    "    Save the file\n",
    "\n",
    "Now go back to the terminal and do the following:\n",
    "\n",
    "    Initialize a new git repository in the resume directory\n",
    "    Add the Readme.md file to the repository\n",
    "    Create a new commit with a commit message\n",
    "    Check the git log to see your commit history\n",
    "    Go to GitHub and create a new public repository entitled resume\n",
    "    Push your local resume repository to GitHub following the instructions.\n",
    "    View your online resume at http://github.com/<your github username>/resume\n",
    "\n",
    "Finally, go back to the editor and add a new subsection called “Research Interests” to your Readme.md file. Update your local git repository and push your changes to GitHub. Verify that the remote repository is updated.\n",
    "\n",
    "You can view mine here: "
   ]
  },
  {
   "cell_type": "markdown",
   "metadata": {},
   "source": [
    "## For a guide to Markdown syntax\n",
    "\n",
    "https://www.markdownguide.org/basic-syntax/"
   ]
  },
  {
   "cell_type": "markdown",
   "metadata": {},
   "source": [
    "## Now create your respository for PythonTools"
   ]
  },
  {
   "cell_type": "markdown",
   "metadata": {},
   "source": [
    "- Create a new directory called pytools-assignments in your home directory.\n",
    "- Create a Readme.md markdown file that contains your name and a link to your “resume” repo.\n",
    "- Initialize a new git repository\n",
    "- Add the file and make your first commit\n",
    "- Create a new private repository on GitHub called pytools-assignments. (Call it exactly like that. Do not vary the spelling, capitalization, or punctuation.)\n",
    "- Push your pytools-assignments repository to GitHub\n",
    "- On GitHub, go to “settings” -> “collaborators” and add isgiddy.\n",
    "- Push new commits to this repository whenever you are ready to hand in your assignments\n"
   ]
  },
  {
   "cell_type": "markdown",
   "metadata": {},
   "source": [
    "## Stay up to date with the latest course content"
   ]
  },
  {
   "cell_type": "markdown",
   "metadata": {},
   "source": [
    "- Clone the repository found here to your local machine   <https://github.com/isgiddy/ocean-pytools>\n",
    "- Navigate to the folder from your terminal\n",
    "- Git pull after each session"
   ]
  },
  {
   "cell_type": "code",
   "execution_count": null,
   "metadata": {},
   "outputs": [],
   "source": []
  }
 ],
 "metadata": {
  "kernelspec": {
   "display_name": "Python 3",
   "language": "python",
   "name": "python3"
  },
  "language_info": {
   "codemirror_mode": {
    "name": "ipython",
    "version": 3
   },
   "file_extension": ".py",
   "mimetype": "text/x-python",
   "name": "python",
   "nbconvert_exporter": "python",
   "pygments_lexer": "ipython3",
   "version": "3.8.5"
  }
 },
 "nbformat": 4,
 "nbformat_minor": 4
}

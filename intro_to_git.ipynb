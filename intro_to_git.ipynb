{
 "cells": [
  {
   "cell_type": "markdown",
   "metadata": {},
   "source": [
    "# Setting up jupyter lab and getting comfortable with the command line and git"
   ]
  },
  {
   "cell_type": "markdown",
   "metadata": {},
   "source": [
    "## Basic command line syntax\n",
    "\n",
    "```pwd ```  shows you the path of the directory you are in  \n",
    "```ls``` shows you what files and folders are in that directory  \n",
    "```cd .. ``` change directory to the directory above  \n",
    "```cd <path to some directoy>``` change directory to where you want to go  \n",
    "```mkdir``` create a folder  \n",
    "```rm -r <name of folder> ``` remove a folder  \n",
    "```rm <file> ``` remove a file  \n",
    "```mv <file_current_name> <file_new_name> ``` rename a file  \n",
    "```mv <file_current_name> <path_to_new_location/file_name>``` move file to new location\n",
    "```cp old new``` copies a file\n",
    "```touch <filename>; nano <filename>; notepad <filename>``` create a new file\n"
   ]
  },
  {
   "cell_type": "markdown",
   "metadata": {},
   "source": [
    "We will be working through jupyter lab. The first step is to ensure that [jupyterlab](https://jupyter.org/install) is installed and working on your operating system  \n",
    "\n",
    "\n",
    "Anaconda allows one to create virtual conda environments. This avoids potential conflicts between packages needed for different projects.  \n",
    "For this course you can install the following environment for scientific computing. \n",
    "\n",
    "Navigate to the terminal in jupyter lab.  \n",
    "\n",
    "Note you will need to have the environment.yml file downloaded from the github repository within the same directory.  \n",
    "Either create your own environment\n",
    "```\n",
    "conda create -n myenv python=3.6 \n",
    "```\n",
    "Or a pre-exisitng environment . Note - make sure you are in the same directory that the environment.yml file is saved in  \n",
    "\n",
    "```\n",
    "conda env create -f environment.yml\n",
    "```\n",
    "Follow the prompts, then either activate the environment in the command line, or select pytools environment in the launcher.  \n",
    "\n",
    "```\n",
    "conda activate pytools\n",
    "```\n",
    "\n",
    "## Get set up with Git\n",
    "\n",
    "Check that git is installed on your computer.  \n",
    "\n",
    "In the terminal type ```git```. It should output a list of useful commands.  \n",
    "If git is not yet installed, in the terminal type ``` conda install -c anaconda git ```\n",
    "\n",
    "Then create a github account at www.github.com  \n",
    "\n",
    "Once you have an account you will faciliate your life if you add an SSH key. \n",
    "\n"
   ]
  },
  {
   "cell_type": "markdown",
   "metadata": {},
   "source": [
    "## Add information for ssh key setup \n",
    "Follow the github docs   \n",
    "\n",
    "1. In your git account, navigate to Settings, then SSH & GPG keys in the left bar\n",
    "2. Click on add new ssh key\n",
    "3. Paste your public ssh key in the space provided and save\n",
    "4. You should now be able to link your terminal directly to git\n",
    "\n",
    "https://docs.github.com/en/github/authenticating-to-github/connecting-to-github-with-ssh\n",
    "\n",
    "\n",
    "* Create your ssh key following the instructions here *\n",
    "\n",
    "https://docs.github.com/en/github/authenticating-to-github/connecting-to-github-with-ssh/generating-a-new-ssh-key-and-adding-it-to-the-ssh-agent\n",
    "\n",
    "I recommend creating an ssh key using the following command line:  \n",
    "```\n",
    "ssh-keygen -t ed25519 -C \"your_email@example.com\"\n",
    "```\n",
    "\n",
    "Then press enter through all the prompts\n",
    "\n",
    "Either navigate to the file (usually cd ~./ssh) and open the file and directly copy the key or use the command:   \n",
    "```\n",
    "pbcopy < ~/.ssh/id_ed25519.pub  \n",
    "```\n",
    "\n",
    "for a windows computer use the following command\n",
    "```\n",
    "type  C:\\Users\\USERNAME/.ssh/id_ed25519.pub | clip\n",
    "```\n",
    "which copies the contents of the file to your clipboard  \n",
    "\n",
    "Once you have done this, paste the key in the space provided on github"
   ]
  },
  {
   "cell_type": "markdown",
   "metadata": {},
   "source": []
  },
  {
   "cell_type": "markdown",
   "metadata": {},
   "source": [
    "## Summary of useful Git commands\n",
    "This describes an example workflow - (the section section is the exercise to try out yourself)"
   ]
  },
  {
   "cell_type": "markdown",
   "metadata": {},
   "source": [
    "Create a new repository"
   ]
  },
  {
   "cell_type": "markdown",
   "metadata": {},
   "source": [
    "```\n",
    "mkdir my_project\n",
    "cd my_project\n",
    "git init \n",
    "```"
   ]
  },
  {
   "cell_type": "markdown",
   "metadata": {},
   "source": [
    "Stage files for addition to the repository:"
   ]
  },
  {
   "cell_type": "markdown",
   "metadata": {},
   "source": [
    "```\n",
    "git add <filenames>\n",
    "```"
   ]
  },
  {
   "cell_type": "markdown",
   "metadata": {},
   "source": [
    "Commit staged files:"
   ]
  },
  {
   "cell_type": "markdown",
   "metadata": {},
   "source": [
    "```\n",
    "git commit -m \"your brief commit message goes here\"\n",
    "\n",
    "common commit syntax:\n",
    "\"fix:<describe the fix>\"\n",
    "\"update:<describe the update>\"\n",
    "\"feat:<describe the new feature>\"\n",
    "```"
   ]
  },
  {
   "cell_type": "markdown",
   "metadata": {},
   "source": [
    "Get information about your repository:"
   ]
  },
  {
   "cell_type": "markdown",
   "metadata": {},
   "source": [
    "```\n",
    "git status    # tells you what files are staged, which ones have been modified, are new,... )\n",
    "git log       # view the commit log\n",
    "git diff      # view file content differences\n",
    "```"
   ]
  },
  {
   "cell_type": "markdown",
   "metadata": {},
   "source": [
    "Revert a file to an earlier version:"
   ]
  },
  {
   "cell_type": "markdown",
   "metadata": {},
   "source": [
    "```\n",
    "git checkout <commit tag> <filenames>\n",
    "```"
   ]
  },
  {
   "cell_type": "markdown",
   "metadata": {},
   "source": [
    "Summary (Collaborating with Git and Github)\n",
    "\n",
    "    - Create a new repository on GitHub  \n",
    "    - Follow the instructions and run git remote add origin <repo url> on your local repo\n",
    "    - make your changes and stage them with git add,\n",
    "    - commit your changes with git commit -m, and\n",
    "    - upload the changes to GitHub with git push origin main\n",
    "    - update your local repo with git pull origin main\n"
   ]
  },
  {
   "cell_type": "markdown",
   "metadata": {},
   "source": [
    "## Practice"
   ]
  },
  {
   "cell_type": "markdown",
   "metadata": {},
   "source": [
    "Create your own resume repository\n",
    "\n",
    "Use JupyterLab to launch a terminal and use the terminal to do the following tasks:\n"
   ]
  },
  {
   "cell_type": "markdown",
   "metadata": {},
   "source": [
    "\n",
    "### Step 1\n",
    "\n",
    "In the terminal in jupyter lab\n",
    "\n",
    "Set up your username and email (only do this once)\n",
    "\n",
    "```\n",
    "git config --global user.name \"Isabelle Giddy\"  \n",
    "git config --global user.email \"isgiddy@gmail.com\"\n",
    "```\n",
    "\n",
    "Create a new directory (folder) called resume \n",
    "\n",
    "```mkdir resume``` then navigate into this folder ```cd resume```  \n",
    "\n",
    "Initialise a new git respository\n",
    "\n",
    "```git init```\n",
    "\n",
    "Create an empty file within this directory called Readme.md  \n",
    "You can either create this file manually (like you usually would) \n",
    "Or in jupyter lab in the navigator click on New Launcher, then select either a textfile and save with the extension .md or directly select a new markdown file. Make sure to check that the file is created within the resume directory or move it to that directory afterwards.   \n",
    "\n",
    "You can open the Readme.md file in Markdown preview by right clicking on it and selected \"open with\". This way you can see the rendered version of your work as you edit it.  \n",
    "\n",
    "-----------------\n",
    "\n",
    "#### For a guide to Markdown syntax\n",
    "\n",
    "https://www.markdownguide.org/basic-syntax/\n",
    "\n",
    "-----------------\n",
    "\n",
    "Edit the file. Add the following information: \n",
    "    Top level heading with your name  \n",
    "    An image. It can be a photo of you or, if you prefer, a photo of your spirit animal. Place the image in your directory. You can set the size of the image using html syntax:         ``` <img src=\"profile_pic.jpg\" alt=\"me\" width=\"200\"/> ```  \n",
    "    \n",
    "   Secondary heading entitle \"Position and affiliation\"\n",
    "   e.g. Masters Student, UCT Oceanography\n",
    "   \n",
    "\n",
    "Now go back to the terminal and do the following:\n",
    "\n",
    "``` git add Readme.md``` \n",
    "``` git commit -m 'new readme file'```\n",
    "\n",
    "Check the git log to see your commit history (```git log```)\n",
    "\n",
    "\n",
    "### Step 2\n",
    "Go to GitHub and create a new public repository entitled resume \n",
    "Make sure you have already added your public key to github (see above)  \n",
    "Do create a new respository in your account, click on the top right + and select new repository  \n",
    "Under respository name, write \"resume\"  \n",
    "Make sure that the repository is public  \n",
    "Dont select anything else for now  \n",
    "Then click \"create repository\"\n",
    "\n",
    "### Step 3\n",
    "\n",
    "Back in your terminal  \n",
    "\n",
    "    git remote add origin git@github.com:<your username>/resume.git\n",
    "    git branch -M main    \n",
    "    git push -u origin main \n",
    "    \n",
    "    \n",
    "Aside: Note that the main branch used to be called master, but there is movement to switch the naming convention to main, as master implies superiority. \n",
    "\n",
    "Finally, go back to the editor and add a new subsection called “Research Interests” to your Readme.md file. Update your local git repository (git add Readme.md; git commit -m 'update:Readme.md') and push your changes to GitHub (git push). Verify that the remote repository is updated.\n",
    "\n",
    "    \n",
    "Now you should be all set up!\n",
    "\n",
    "\n",
    "    View your online resume at http://github.com/<your github username>/resume\n",
    "    \n",
    " \n",
    "You can view mine here: https://github.com/isgiddy/resume  \n",
    "Open the source code to see my syntax\n"
   ]
  },
  {
   "cell_type": "markdown",
   "metadata": {},
   "source": [
    "## Now create your respository for PythonTools\n",
    "\n",
    "So that I can see you assignments etc"
   ]
  },
  {
   "cell_type": "markdown",
   "metadata": {},
   "source": [
    "- Create a new directory called pytools-assignments in your home directory. (not in the resume folder)\n",
    "- Create a Readme.md markdown file that contains your name and a link to your “resume” repo.\n",
    "- Initialize a new git repository\n",
    "- Add the file and make your first commit\n",
    "- Create a new private repository on GitHub called pytools-assignments. (Call it exactly like that. Do not vary the spelling, capitalization, or punctuation.)\n",
    "- Push your pytools-assignments repository to GitHub\n",
    "- On GitHub, go to “settings” -> “collaborators” and add isgiddy.\n",
    "- Push new commits to this repository whenever you are ready to hand in your assignments\n"
   ]
  },
  {
   "cell_type": "markdown",
   "metadata": {},
   "source": [
    "## Stay up to date with the latest course content"
   ]
  },
  {
   "cell_type": "markdown",
   "metadata": {},
   "source": [
    "- Clone the repository found here to your local machine   <https://github.com/isgiddy/ocean-pytools>\n",
    "First make sure you are in your home directory (or at least not in resume or pytools-assignments folders)\n",
    "Then, in the terminal, \n",
    "\n",
    "        git clone git@github.com:isgiddy/ocean-pytools.git       \n",
    "\n",
    "\n",
    "- Navigate to the folder from your terminal\n",
    "- Git pull after each session"
   ]
  }
 ],
 "metadata": {
  "kernelspec": {
   "display_name": "Python 3",
   "language": "python",
   "name": "python3"
  },
  "language_info": {
   "codemirror_mode": {
    "name": "ipython",
    "version": 3
   },
   "file_extension": ".py",
   "mimetype": "text/x-python",
   "name": "python",
   "nbconvert_exporter": "python",
   "pygments_lexer": "ipython3",
   "version": "3.8.5"
  }
 },
 "nbformat": 4,
 "nbformat_minor": 4
}

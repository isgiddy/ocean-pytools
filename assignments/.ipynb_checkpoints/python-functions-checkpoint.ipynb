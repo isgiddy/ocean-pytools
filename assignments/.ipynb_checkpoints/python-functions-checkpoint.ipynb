{
 "cells": [
  {
   "cell_type": "markdown",
   "id": "c4847c4b",
   "metadata": {},
   "source": [
    "# Assignment: Functions\n",
    "\n"
   ]
  },
  {
   "cell_type": "markdown",
   "id": "8ee46786",
   "metadata": {},
   "source": [
    "### Convert degrees to radians\n",
    "\n",
    "Write a function that takes degrees as an input and outputs radians\n",
    "\n",
    "hint: 1 degree  = pi/180 degrees"
   ]
  },
  {
   "cell_type": "code",
   "execution_count": 6,
   "id": "51d1562a",
   "metadata": {},
   "outputs": [
    {
     "data": {
      "text/plain": [
       "3.141592653589793"
      ]
     },
     "execution_count": 6,
     "metadata": {},
     "output_type": "execute_result"
    }
   ],
   "source": [
    "# pi \n",
    "import numpy as np\n",
    "pi = np.pi\n",
    "pi"
   ]
  },
  {
   "cell_type": "code",
   "execution_count": null,
   "id": "5b258bf7",
   "metadata": {},
   "outputs": [],
   "source": [
    "def degrees_to_radians(input_degree):\n",
    "    \"\"\"\n",
    "    explanation of what the function does\n",
    "    \"\"\"\n",
    "    \n",
    "    \n",
    "    \n",
    "    return radians  "
   ]
  },
  {
   "cell_type": "code",
   "execution_count": null,
   "id": "d249b8b5",
   "metadata": {},
   "outputs": [],
   "source": []
  },
  {
   "cell_type": "markdown",
   "id": "b35fdaaa",
   "metadata": {},
   "source": [
    "### Compute the coriolis parameter"
   ]
  },
  {
   "cell_type": "markdown",
   "id": "aa540e7a",
   "metadata": {},
   "source": [
    "In physics, the Coriolis force is an inertial force that acts on objects that are in motion within a frame of reference that rotates with respect to an inertial frame. In a reference frame with clockwise rotation, the force acts to the left of the motion of the object. In one with anticlockwise (or counterclockwise) rotation, the force acts to the right. Deflection of an object due to the Coriolis force is called the Coriolis effect.  (source: Wikipedia)\n",
    "\n",
    "For example, in oceanography, together with the winds, the coriolis effect drives the direction of geostrophic currents.\n",
    "\n",
    "![image](https://upload.wikimedia.org/wikipedia/commons/9/9b/Corrientes-oceanicas.png)\n",
    "\n",
    "\n",
    "The coriolis force deflects currents to the left of the wind in the Southern Hemisphere and to the right in the Northern Hemisphere. "
   ]
  },
  {
   "cell_type": "markdown",
   "id": "360e3c88",
   "metadata": {},
   "source": [
    "Write a function that calculates the coriolis parameter at different latitudes.  \n",
    "\n",
    "Coriolis parameter/frequency, f,  is given by the equation:\n",
    "\n",
    "$$\n",
    "f = 2 \\omega sin \\phi\n",
    "$$\n",
    "\n",
    "where f, is equal to twice the rotation rate Ω of the Earth multiplied by the sine of the latitude φ. \n",
    "\n",
    "The rotation of the earth, omega, is given by a constant: 0.729 x 10^-4\n",
    "\n",
    "The input arguments would be omega and the latitude of interest.\n",
    "\n",
    "Remember that latitude should be in radians, not degrees.\n"
   ]
  },
  {
   "cell_type": "code",
   "execution_count": null,
   "id": "6b8e52a6",
   "metadata": {},
   "outputs": [],
   "source": []
  },
  {
   "cell_type": "code",
   "execution_count": null,
   "id": "b420a563",
   "metadata": {},
   "outputs": [],
   "source": []
  },
  {
   "cell_type": "code",
   "execution_count": null,
   "id": "dbb224e0",
   "metadata": {},
   "outputs": [],
   "source": []
  },
  {
   "cell_type": "code",
   "execution_count": null,
   "id": "f2a8b613",
   "metadata": {},
   "outputs": [],
   "source": []
  }
 ],
 "metadata": {
  "kernelspec": {
   "display_name": "Python [conda env:pytools_small]",
   "language": "python",
   "name": "conda-env-pytools_small-py"
  },
  "language_info": {
   "codemirror_mode": {
    "name": "ipython",
    "version": 3
   },
   "file_extension": ".py",
   "mimetype": "text/x-python",
   "name": "python",
   "nbconvert_exporter": "python",
   "pygments_lexer": "ipython3",
   "version": "3.6.13"
  }
 },
 "nbformat": 4,
 "nbformat_minor": 5
}

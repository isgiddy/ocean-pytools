{
 "cells": [
  {
   "cell_type": "markdown",
   "id": "f0ecdcc3",
   "metadata": {},
   "source": [
    "# Assignment 3 - Numpy and Matplotlib¶\n",
    "\n",
    "The goal of this assignment is to gain comfort creating, visualizating, and computing with numpy array. By the end of the assignment, you should feel comfortable:  \n",
    "\n",
    "- working with and manipulating numpy arrays\n",
    "- writing functions\n",
    "- working with some real data and visualising it\n",
    " "
   ]
  },
  {
   "cell_type": "markdown",
   "id": "79a6f629",
   "metadata": {},
   "source": [
    "## Part 1\n",
    "\n",
    "### 1 Creating and Manipulating Arrays  \n",
    "\n",
    "First import numpy and matplotlib"
   ]
  },
  {
   "cell_type": "markdown",
   "id": "fa670392",
   "metadata": {},
   "source": [
    "#### 1.1. Create two 2D arrays representing coordinates x, y on the cartesian plan  \n",
    "Both should cover the range (-2, 2) and have 100 points in each direction"
   ]
  },
  {
   "cell_type": "markdown",
   "id": "30d8d65d",
   "metadata": {},
   "source": [
    "### 1.2. Visualize each 2D array using pcolormesh\n",
    "Use the correct coordinates for the x and y axes. Provide axis labels for all of your plots."
   ]
  },
  {
   "cell_type": "markdown",
   "id": "9e04ef09",
   "metadata": {},
   "source": [
    "### 1.3 Convert cartesian to polar coordinates\n",
    "\n",
    "where\n",
    "\n",
    "$$ \\varphi = atan2(y,x) $$\n",
    "\n",
    "$$ r =\\sqrt {x^2 + y^2} $$\n",
    "\n",
    "\n",
    "you will need to use the numpy function\n",
    "\n",
    "```\n",
    "np.arctan2\n",
    "```"
   ]
  },
  {
   "cell_type": "markdown",
   "id": "ad6a3db9",
   "metadata": {},
   "source": [
    "#### 1.4 Define the function $$ f = cos^2(4r) + sin^2(4\\varphi) $$\n",
    "\n",
    "plot as a function of x and y"
   ]
  },
  {
   "cell_type": "markdown",
   "id": "78128097",
   "metadata": {},
   "source": [
    "#### 1.5 Plot the mean of f with respect to the x axis\n",
    "as a function of y"
   ]
  },
  {
   "cell_type": "markdown",
   "id": "45beaf68",
   "metadata": {},
   "source": [
    "#### 1.6 Write a definition (function) that allows the user to choose to plot f as a function of x or y"
   ]
  },
  {
   "cell_type": "markdown",
   "id": "36b9f926",
   "metadata": {},
   "source": [
    "## Part 2: Analyze Argo data\n",
    "\n",
    "Find a float to download [here](https://argovis.colorado.edu/ng/home?mapProj=WM&presRange=%5B0,2000%5D&selectionStartDate=2021-08-22T08:20:33Z&selectionEndDate=2021-09-05T08:20:33Z&threeDayEndDate=2021-09-03T08:20:33&shapes=%5B%5D&includeRealtime=true&onlyBGC=false&onlyDeep=false&threeDayToggle=true)\n",
    "\n",
    "Follow the same method as the tutorial, \n",
    "\n",
    "1. download the data\n",
    "2. Extract the temperature, pressure and salinity arrays \n",
    "3. Extract date, lat ,lon, \n",
    "4. Create a scatter plot of the positions of the ARGO float data. Color the positions by the date\n",
    "5. Make two plots showing the time series of temperature and salinity (time on the xaxis, variable on the yaxis)\n",
    "\n",
    "The data is downloaded as an xarray from argopy. We will work more on xarrays in the coming lectures!"
   ]
  },
  {
   "cell_type": "markdown",
   "id": "88929b3f",
   "metadata": {},
   "source": [
    "use this code snippet to select one depth levels and plot a timeseries of data that is easier to interpret\n"
   ]
  },
  {
   "cell_type": "code",
   "execution_count": null,
   "id": "08b8c62b",
   "metadata": {},
   "outputs": [],
   "source": [
    "# argo_profiles = ds.argo.point2profile() # Convert points to profiles \n",
    "# argo_interp = argo_profiles.argo.interp_std_levels([10]) # Interpolate to pressure levels (depth 10 selected here)\n",
    "# selected_vars = argo_interp[[\"LATITUDE\", \"LONGITUDE\", \"TIME\", \"TEMP\",\"PSAL\"]] #select relevant variables\n",
    "\n",
    "#Note that you can call variables from xarray format using either ds['variable_you_want'] or ds.variable_you_want\n"
   ]
  }
 ],
 "metadata": {
  "kernelspec": {
   "display_name": "Python [conda env:pytools_small]",
   "language": "python",
   "name": "conda-env-pytools_small-py"
  },
  "language_info": {
   "codemirror_mode": {
    "name": "ipython",
    "version": 3
   },
   "file_extension": ".py",
   "mimetype": "text/x-python",
   "name": "python",
   "nbconvert_exporter": "python",
   "pygments_lexer": "ipython3",
   "version": "3.6.13"
  }
 },
 "nbformat": 4,
 "nbformat_minor": 5
}

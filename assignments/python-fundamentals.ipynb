{
 "cells": [
  {
   "cell_type": "markdown",
   "id": "0d765f76",
   "metadata": {},
   "source": [
    "## Assignment - python-fundamentals\n",
    "\n",
    "* First work through the python_fundamentals notebook\n",
    "\n",
    "* Open this jupyter notebook in your pytools-assignments folder and make sure it is named python-fundamentals.ipynb  \n",
    "\n",
    "* Complete the excersise outlined below and then push it to git\n",
    "\n",
    "There are tons of documentation and help online, google is your friend as a first step!      \n",
    "\n",
    "Remember that coding is about problem solving and being creative "
   ]
  },
  {
   "cell_type": "markdown",
   "id": "6da15340",
   "metadata": {},
   "source": [
    "### Part 1\n",
    "\n",
    "Open the csv file  (\"python_tools_oceanography..\") that I shared on the repository \n",
    "\n",
    "We will parse this csv file to a dictionary - this isnt something we commonly do in python but good exercise to get familiar with python methods\n"
   ]
  },
  {
   "cell_type": "markdown",
   "id": "94addc20",
   "metadata": {},
   "source": [
    "#### Open the file using the **open** function"
   ]
  },
  {
   "cell_type": "code",
   "execution_count": 126,
   "id": "d9185dd7",
   "metadata": {},
   "outputs": [],
   "source": [
    "file = open('Python_Tools_Oceanography_2021.csv')\n"
   ]
  },
  {
   "cell_type": "code",
   "execution_count": 127,
   "id": "85ce3673",
   "metadata": {},
   "outputs": [
    {
     "data": {
      "text/plain": [
       "<_io.TextIOWrapper name='Python_Tools_Oceanography_2021.csv' mode='r' encoding='UTF-8'>"
      ]
     },
     "execution_count": 127,
     "metadata": {},
     "output_type": "execute_result"
    }
   ],
   "source": [
    "file"
   ]
  },
  {
   "cell_type": "markdown",
   "id": "661620ce",
   "metadata": {},
   "source": [
    "Use the **help** function to get the documentation for your new variable file\n",
    "\n",
    "This will produce a long list of methods you can use with file."
   ]
  },
  {
   "cell_type": "code",
   "execution_count": 27,
   "id": "5d9801c1",
   "metadata": {},
   "outputs": [
    {
     "name": "stdout",
     "output_type": "stream",
     "text": [
      "Help on TextIOWrapper object:\n",
      "\n",
      "class TextIOWrapper(_TextIOBase)\n",
      " |  Character and line based layer over a BufferedIOBase object, buffer.\n",
      " |  \n",
      " |  encoding gives the name of the encoding that the stream will be\n",
      " |  decoded or encoded with. It defaults to locale.getpreferredencoding(False).\n",
      " |  \n",
      " |  errors determines the strictness of encoding and decoding (see\n",
      " |  help(codecs.Codec) or the documentation for codecs.register) and\n",
      " |  defaults to \"strict\".\n",
      " |  \n",
      " |  newline controls how line endings are handled. It can be None, '',\n",
      " |  '\\n', '\\r', and '\\r\\n'.  It works as follows:\n",
      " |  \n",
      " |  * On input, if newline is None, universal newlines mode is\n",
      " |    enabled. Lines in the input can end in '\\n', '\\r', or '\\r\\n', and\n",
      " |    these are translated into '\\n' before being returned to the\n",
      " |    caller. If it is '', universal newline mode is enabled, but line\n",
      " |    endings are returned to the caller untranslated. If it has any of\n",
      " |    the other legal values, input lines are only terminated by the given\n",
      " |    string, and the line ending is returned to the caller untranslated.\n",
      " |  \n",
      " |  * On output, if newline is None, any '\\n' characters written are\n",
      " |    translated to the system default line separator, os.linesep. If\n",
      " |    newline is '' or '\\n', no translation takes place. If newline is any\n",
      " |    of the other legal values, any '\\n' characters written are translated\n",
      " |    to the given string.\n",
      " |  \n",
      " |  If line_buffering is True, a call to flush is implied when a call to\n",
      " |  write contains a newline character.\n",
      " |  \n",
      " |  Method resolution order:\n",
      " |      TextIOWrapper\n",
      " |      _TextIOBase\n",
      " |      _IOBase\n",
      " |      builtins.object\n",
      " |  \n",
      " |  Methods defined here:\n",
      " |  \n",
      " |  __getstate__(...)\n",
      " |  \n",
      " |  __init__(self, /, *args, **kwargs)\n",
      " |      Initialize self.  See help(type(self)) for accurate signature.\n",
      " |  \n",
      " |  __new__(*args, **kwargs) from builtins.type\n",
      " |      Create and return a new object.  See help(type) for accurate signature.\n",
      " |  \n",
      " |  __next__(self, /)\n",
      " |      Implement next(self).\n",
      " |  \n",
      " |  __repr__(self, /)\n",
      " |      Return repr(self).\n",
      " |  \n",
      " |  close(self, /)\n",
      " |      Flush and close the IO object.\n",
      " |      \n",
      " |      This method has no effect if the file is already closed.\n",
      " |  \n",
      " |  detach(self, /)\n",
      " |      Separate the underlying buffer from the TextIOBase and return it.\n",
      " |      \n",
      " |      After the underlying buffer has been detached, the TextIO is in an\n",
      " |      unusable state.\n",
      " |  \n",
      " |  fileno(self, /)\n",
      " |      Returns underlying file descriptor if one exists.\n",
      " |      \n",
      " |      OSError is raised if the IO object does not use a file descriptor.\n",
      " |  \n",
      " |  flush(self, /)\n",
      " |      Flush write buffers, if applicable.\n",
      " |      \n",
      " |      This is not implemented for read-only and non-blocking streams.\n",
      " |  \n",
      " |  isatty(self, /)\n",
      " |      Return whether this is an 'interactive' stream.\n",
      " |      \n",
      " |      Return False if it can't be determined.\n",
      " |  \n",
      " |  read(self, size=-1, /)\n",
      " |      Read at most n characters from stream.\n",
      " |      \n",
      " |      Read from underlying buffer until we have n characters or we hit EOF.\n",
      " |      If n is negative or omitted, read until EOF.\n",
      " |  \n",
      " |  readable(self, /)\n",
      " |      Return whether object was opened for reading.\n",
      " |      \n",
      " |      If False, read() will raise OSError.\n",
      " |  \n",
      " |  readline(self, size=-1, /)\n",
      " |      Read until newline or EOF.\n",
      " |      \n",
      " |      Returns an empty string if EOF is hit immediately.\n",
      " |  \n",
      " |  seek(self, cookie, whence=0, /)\n",
      " |      Change stream position.\n",
      " |      \n",
      " |      Change the stream position to the given byte offset. The offset is\n",
      " |      interpreted relative to the position indicated by whence.  Values\n",
      " |      for whence are:\n",
      " |      \n",
      " |      * 0 -- start of stream (the default); offset should be zero or positive\n",
      " |      * 1 -- current stream position; offset may be negative\n",
      " |      * 2 -- end of stream; offset is usually negative\n",
      " |      \n",
      " |      Return the new absolute position.\n",
      " |  \n",
      " |  seekable(self, /)\n",
      " |      Return whether object supports random access.\n",
      " |      \n",
      " |      If False, seek(), tell() and truncate() will raise OSError.\n",
      " |      This method may need to do a test seek().\n",
      " |  \n",
      " |  tell(self, /)\n",
      " |      Return current stream position.\n",
      " |  \n",
      " |  truncate(self, pos=None, /)\n",
      " |      Truncate file to size bytes.\n",
      " |      \n",
      " |      File pointer is left unchanged.  Size defaults to the current IO\n",
      " |      position as reported by tell().  Returns the new size.\n",
      " |  \n",
      " |  writable(self, /)\n",
      " |      Return whether object was opened for writing.\n",
      " |      \n",
      " |      If False, write() will raise OSError.\n",
      " |  \n",
      " |  write(self, text, /)\n",
      " |      Write string to stream.\n",
      " |      Returns the number of characters written (which is always equal to\n",
      " |      the length of the string).\n",
      " |  \n",
      " |  ----------------------------------------------------------------------\n",
      " |  Data descriptors defined here:\n",
      " |  \n",
      " |  buffer\n",
      " |  \n",
      " |  closed\n",
      " |  \n",
      " |  encoding\n",
      " |      Encoding of the text stream.\n",
      " |      \n",
      " |      Subclasses should override.\n",
      " |  \n",
      " |  errors\n",
      " |      The error setting of the decoder or encoder.\n",
      " |      \n",
      " |      Subclasses should override.\n",
      " |  \n",
      " |  line_buffering\n",
      " |  \n",
      " |  name\n",
      " |  \n",
      " |  newlines\n",
      " |      Line endings translated so far.\n",
      " |      \n",
      " |      Only line endings translated during reading are considered.\n",
      " |      \n",
      " |      Subclasses should override.\n",
      " |  \n",
      " |  ----------------------------------------------------------------------\n",
      " |  Methods inherited from _IOBase:\n",
      " |  \n",
      " |  __del__(...)\n",
      " |  \n",
      " |  __enter__(...)\n",
      " |  \n",
      " |  __exit__(...)\n",
      " |  \n",
      " |  __iter__(self, /)\n",
      " |      Implement iter(self).\n",
      " |  \n",
      " |  readlines(self, hint=-1, /)\n",
      " |      Return a list of lines from the stream.\n",
      " |      \n",
      " |      hint can be specified to control the number of lines read: no more\n",
      " |      lines will be read if the total size (in bytes/characters) of all\n",
      " |      lines so far exceeds hint.\n",
      " |  \n",
      " |  writelines(self, lines, /)\n",
      " |  \n",
      " |  ----------------------------------------------------------------------\n",
      " |  Data descriptors inherited from _IOBase:\n",
      " |  \n",
      " |  __dict__\n",
      "\n"
     ]
    }
   ],
   "source": [
    "help(file)"
   ]
  },
  {
   "cell_type": "markdown",
   "id": "78c1362a",
   "metadata": {},
   "source": [
    "Read the lines of the file into a variable called ``` lines```"
   ]
  },
  {
   "cell_type": "markdown",
   "id": "78134efd",
   "metadata": {},
   "source": [
    "Hint: use the documentation (help function) above to find the method that sounds most likely to do what you want.\n",
    "\n",
    "What type of object is ```lines```?"
   ]
  },
  {
   "cell_type": "code",
   "execution_count": 128,
   "id": "f4c5ead4",
   "metadata": {},
   "outputs": [],
   "source": [
    "lines=file.readlines()"
   ]
  },
  {
   "cell_type": "code",
   "execution_count": 129,
   "id": "b0d405f2",
   "metadata": {},
   "outputs": [
    {
     "data": {
      "text/plain": [
       "list"
      ]
     },
     "execution_count": 129,
     "metadata": {},
     "output_type": "execute_result"
    }
   ],
   "source": [
    "type(lines)"
   ]
  },
  {
   "cell_type": "code",
   "execution_count": 107,
   "id": "b734adf2",
   "metadata": {},
   "outputs": [
    {
     "data": {
      "text/plain": [
       "['\\ufeffName,User ID,Email Address,Role\\n',\n",
       " '\"Erasmus, Mckayla\",ersmck001,ERSMCK001@myuct.ac.za,Participant\\n',\n",
       " '\"Heye, Sonia\",hyxson001,HYXSON001@myuct.ac.za,Participant\\n',\n",
       " '\"Masilela, Amanda\",mslama003,MSLAMA003@myuct.ac.za,Participant\\n',\n",
       " '\"Mawren, Daneeja\",mwrdan001,daneeja.mawren@uct.ac.za,Participant\\n',\n",
       " '\"Mpheshea, Lerato\",mphler005,MPHLER005@myuct.ac.za,Participant\\n',\n",
       " '\"Mvula, Philile\",mvlphi004,MVLPHI004@myuct.ac.za,Participant\\n',\n",
       " '\"Naidoo, Lerusha\",ndxler010,NDXLER010@myuct.ac.za,Participant\\n',\n",
       " '\"Pinto, Michael\",pntmic004,PNTMIC004@myuct.ac.za,Participant\\n',\n",
       " '\"Ramugondo, Ntanganedzeni\",rmgnta001,RMGNTA001@myuct.ac.za,Participant\\n',\n",
       " '\"Sejeng, Caroline\",sjnman001,SJNMAN001@myuct.ac.za,Participant\\n',\n",
       " '\"Taukoor, Sheveenah\",tkrshe001,TKRSHE001@myuct.ac.za,Participant\\n',\n",
       " '\"Tolojanahary, Sitraka Nandrianina\",tljsit001,TLJSIT001@myuct.ac.za,Participant\\n',\n",
       " '\"Van Schalkwyk, Lynette\",vsclyn001,VSCLYN001@myuct.ac.za,Participant\\n',\n",
       " '\"Whittle, Christo\",whtchr004,WHTCHR004@myuct.ac.za,Participant\\n',\n",
       " '\"Ansorge, Isabelle\",1214934,Isabelle.Ansorge@uct.ac.za,Site owner\\n',\n",
       " '\"Nunes Da Costa, Isabelle\",gddisa001,isgiddy@gmail.com,Site owner']"
      ]
     },
     "execution_count": 107,
     "metadata": {},
     "output_type": "execute_result"
    }
   ],
   "source": [
    "lines"
   ]
  },
  {
   "cell_type": "markdown",
   "id": "f8f7ee9b",
   "metadata": {},
   "source": [
    "* Display lines at the end of a cell in order to see its contents  \n",
    "* Use slicing to display the first three items of the list.  And the last 3  \n",
    "* Create a new list called ```data``` that does not contain the header row"
   ]
  },
  {
   "cell_type": "code",
   "execution_count": 48,
   "id": "0b9c8088",
   "metadata": {},
   "outputs": [
    {
     "data": {
      "text/plain": [
       "['\\ufeffName,User ID,Email Address,Role\\n',\n",
       " '\"Erasmus, Mckayla\",ersmck001,ERSMCK001@myuct.ac.za,Participant\\n',\n",
       " '\"Heye, Sonia\",hyxson001,HYXSON001@myuct.ac.za,Participant\\n']"
      ]
     },
     "execution_count": 48,
     "metadata": {},
     "output_type": "execute_result"
    }
   ],
   "source": [
    "lines[:3]"
   ]
  },
  {
   "cell_type": "code",
   "execution_count": 49,
   "id": "1a494449",
   "metadata": {},
   "outputs": [
    {
     "data": {
      "text/plain": [
       "['\"Whittle, Christo\",whtchr004,WHTCHR004@myuct.ac.za,Participant\\n',\n",
       " '\"Ansorge, Isabelle\",01214934,Isabelle.Ansorge@uct.ac.za,Site owner\\n',\n",
       " '\"Nunes Da Costa, Isabelle\",gddisa001,isgiddy@gmail.com,Site owner']"
      ]
     },
     "execution_count": 49,
     "metadata": {},
     "output_type": "execute_result"
    }
   ],
   "source": [
    "lines[-3:]"
   ]
  },
  {
   "cell_type": "code",
   "execution_count": 130,
   "id": "328ffa92",
   "metadata": {},
   "outputs": [],
   "source": [
    "data = lines[1:]"
   ]
  },
  {
   "cell_type": "code",
   "execution_count": 131,
   "id": "8f409093",
   "metadata": {},
   "outputs": [
    {
     "data": {
      "text/plain": [
       "['\"Erasmus, Mckayla\",ersmck001,ERSMCK001@myuct.ac.za,Participant\\n',\n",
       " '\"Heye, Sonia\",hyxson001,HYXSON001@myuct.ac.za,Participant\\n',\n",
       " '\"Masilela, Amanda\",mslama003,MSLAMA003@myuct.ac.za,Participant\\n',\n",
       " '\"Mawren, Daneeja\",mwrdan001,daneeja.mawren@uct.ac.za,Participant\\n',\n",
       " '\"Mpheshea, Lerato\",mphler005,MPHLER005@myuct.ac.za,Participant\\n',\n",
       " '\"Mvula, Philile\",mvlphi004,MVLPHI004@myuct.ac.za,Participant\\n',\n",
       " '\"Naidoo, Lerusha\",ndxler010,NDXLER010@myuct.ac.za,Participant\\n',\n",
       " '\"Pinto, Michael\",pntmic004,PNTMIC004@myuct.ac.za,Participant\\n',\n",
       " '\"Ramugondo, Ntanganedzeni\",rmgnta001,RMGNTA001@myuct.ac.za,Participant\\n',\n",
       " '\"Sejeng, Caroline\",sjnman001,SJNMAN001@myuct.ac.za,Participant\\n',\n",
       " '\"Taukoor, Sheveenah\",tkrshe001,TKRSHE001@myuct.ac.za,Participant\\n',\n",
       " '\"Tolojanahary, Sitraka Nandrianina\",tljsit001,TLJSIT001@myuct.ac.za,Participant\\n',\n",
       " '\"Van Schalkwyk, Lynette\",vsclyn001,VSCLYN001@myuct.ac.za,Participant\\n',\n",
       " '\"Whittle, Christo\",whtchr004,WHTCHR004@myuct.ac.za,Participant\\n',\n",
       " '\"Ansorge, Isabelle\",1214934,Isabelle.Ansorge@uct.ac.za,Site owner\\n',\n",
       " '\"Nunes Da Costa, Isabelle\",gddisa001,isgiddy@gmail.com,Site owner']"
      ]
     },
     "execution_count": 131,
     "metadata": {},
     "output_type": "execute_result"
    }
   ],
   "source": [
    "data"
   ]
  },
  {
   "cell_type": "markdown",
   "id": "08876990",
   "metadata": {},
   "source": [
    "Now iterate through ```lines``` and print the item if it contains a Participant"
   ]
  },
  {
   "cell_type": "code",
   "execution_count": 132,
   "id": "50fb97ae",
   "metadata": {},
   "outputs": [
    {
     "data": {
      "text/plain": [
       "['\"Erasmus, Mckayla\",ersmck001,ERSMCK001@myuct.ac.za,Participant\\n',\n",
       " '\"Heye, Sonia\",hyxson001,HYXSON001@myuct.ac.za,Participant\\n',\n",
       " '\"Masilela, Amanda\",mslama003,MSLAMA003@myuct.ac.za,Participant\\n',\n",
       " '\"Mawren, Daneeja\",mwrdan001,daneeja.mawren@uct.ac.za,Participant\\n',\n",
       " '\"Mpheshea, Lerato\",mphler005,MPHLER005@myuct.ac.za,Participant\\n',\n",
       " '\"Mvula, Philile\",mvlphi004,MVLPHI004@myuct.ac.za,Participant\\n',\n",
       " '\"Naidoo, Lerusha\",ndxler010,NDXLER010@myuct.ac.za,Participant\\n',\n",
       " '\"Pinto, Michael\",pntmic004,PNTMIC004@myuct.ac.za,Participant\\n',\n",
       " '\"Ramugondo, Ntanganedzeni\",rmgnta001,RMGNTA001@myuct.ac.za,Participant\\n',\n",
       " '\"Sejeng, Caroline\",sjnman001,SJNMAN001@myuct.ac.za,Participant\\n',\n",
       " '\"Taukoor, Sheveenah\",tkrshe001,TKRSHE001@myuct.ac.za,Participant\\n',\n",
       " '\"Tolojanahary, Sitraka Nandrianina\",tljsit001,TLJSIT001@myuct.ac.za,Participant\\n',\n",
       " '\"Van Schalkwyk, Lynette\",vsclyn001,VSCLYN001@myuct.ac.za,Participant\\n',\n",
       " '\"Whittle, Christo\",whtchr004,WHTCHR004@myuct.ac.za,Participant\\n']"
      ]
     },
     "execution_count": 132,
     "metadata": {},
     "output_type": "execute_result"
    }
   ],
   "source": [
    "[x for x in lines if 'Participant' in x]  # method: list comprehension"
   ]
  },
  {
   "cell_type": "markdown",
   "id": "b269295f",
   "metadata": {},
   "source": [
    "Do the same, but now, only list Site owners"
   ]
  },
  {
   "cell_type": "markdown",
   "id": "f0b2f975",
   "metadata": {},
   "source": [
    "#### Convert this to something more useful\n",
    "Write code to transform the data into a dictionary whose keys are ID and whose values are first names.  \n",
    "Use pythons string documentation to help you: https://docs.python.org/3/library/stdtypes.html#textseq\n",
    "\n",
    "*hint*  \n",
    "use .split to parse columns  \n",
    ".replace to remove unwanted characters"
   ]
  },
  {
   "cell_type": "code",
   "execution_count": 142,
   "id": "3d953559",
   "metadata": {},
   "outputs": [
    {
     "data": {
      "text/plain": [
       "['\\ufeffName,User ID,Email Address,Role\\n',\n",
       " '\"Erasmus, Mckayla\",ersmck001,ERSMCK001@myuct.ac.za,Participant\\n',\n",
       " '\"Heye, Sonia\",hyxson001,HYXSON001@myuct.ac.za,Participant\\n',\n",
       " '\"Masilela, Amanda\",mslama003,MSLAMA003@myuct.ac.za,Participant\\n',\n",
       " '\"Mawren, Daneeja\",mwrdan001,daneeja.mawren@uct.ac.za,Participant\\n',\n",
       " '\"Mpheshea, Lerato\",mphler005,MPHLER005@myuct.ac.za,Participant\\n',\n",
       " '\"Mvula, Philile\",mvlphi004,MVLPHI004@myuct.ac.za,Participant\\n',\n",
       " '\"Naidoo, Lerusha\",ndxler010,NDXLER010@myuct.ac.za,Participant\\n',\n",
       " '\"Pinto, Michael\",pntmic004,PNTMIC004@myuct.ac.za,Participant\\n',\n",
       " '\"Ramugondo, Ntanganedzeni\",rmgnta001,RMGNTA001@myuct.ac.za,Participant\\n',\n",
       " '\"Sejeng, Caroline\",sjnman001,SJNMAN001@myuct.ac.za,Participant\\n',\n",
       " '\"Taukoor, Sheveenah\",tkrshe001,TKRSHE001@myuct.ac.za,Participant\\n',\n",
       " '\"Tolojanahary, Sitraka Nandrianina\",tljsit001,TLJSIT001@myuct.ac.za,Participant\\n',\n",
       " '\"Van Schalkwyk, Lynette\",vsclyn001,VSCLYN001@myuct.ac.za,Participant\\n',\n",
       " '\"Whittle, Christo\",whtchr004,WHTCHR004@myuct.ac.za,Participant\\n',\n",
       " '\"Ansorge, Isabelle\",1214934,Isabelle.Ansorge@uct.ac.za,Site owner\\n',\n",
       " '\"Nunes Da Costa, Isabelle\",gddisa001,isgiddy@gmail.com,Site owner']"
      ]
     },
     "execution_count": 142,
     "metadata": {},
     "output_type": "execute_result"
    }
   ],
   "source": [
    "lines"
   ]
  },
  {
   "cell_type": "code",
   "execution_count": 166,
   "id": "b67d871a",
   "metadata": {},
   "outputs": [],
   "source": [
    "# initialise dictionary\n",
    "python_class = {}\n",
    "\n",
    "for r in data:\n",
    "    \n",
    "    Name=r.split(',')[1][:-1] \n",
    "    ID=r.split(',')[2]\n",
    "\n",
    "    python_class[ID]= Name    \n"
   ]
  },
  {
   "cell_type": "code",
   "execution_count": 167,
   "id": "c6d95832",
   "metadata": {},
   "outputs": [
    {
     "data": {
      "text/plain": [
       "{'ersmck001': ' Mckayla',\n",
       " 'hyxson001': ' Sonia',\n",
       " 'mslama003': ' Amanda',\n",
       " 'mwrdan001': ' Daneeja',\n",
       " 'mphler005': ' Lerato',\n",
       " 'mvlphi004': ' Philile',\n",
       " 'ndxler010': ' Lerusha',\n",
       " 'pntmic004': ' Michael',\n",
       " 'rmgnta001': ' Ntanganedzeni',\n",
       " 'sjnman001': ' Caroline',\n",
       " 'tkrshe001': ' Sheveenah',\n",
       " 'tljsit001': ' Sitraka Nandrianina',\n",
       " 'vsclyn001': ' Lynette',\n",
       " 'whtchr004': ' Christo',\n",
       " '1214934': ' Isabelle',\n",
       " 'gddisa001': ' Isabelle'}"
      ]
     },
     "execution_count": 167,
     "metadata": {},
     "output_type": "execute_result"
    }
   ],
   "source": [
    "python_class"
   ]
  },
  {
   "cell_type": "markdown",
   "id": "0e0ff80c",
   "metadata": {},
   "source": [
    "\n",
    "\n",
    "#### Extend: Figure out who has the longest name in this group"
   ]
  },
  {
   "cell_type": "code",
   "execution_count": 192,
   "id": "7b42deb4",
   "metadata": {},
   "outputs": [
    {
     "data": {
      "text/plain": [
       "20"
      ]
     },
     "execution_count": 192,
     "metadata": {},
     "output_type": "execute_result"
    }
   ],
   "source": [
    "max(len(x) for x in python_class.values())"
   ]
  },
  {
   "cell_type": "code",
   "execution_count": 193,
   "id": "0acf1e58",
   "metadata": {},
   "outputs": [
    {
     "data": {
      "text/plain": [
       "' Sitraka Nandrianina'"
      ]
     },
     "execution_count": 193,
     "metadata": {},
     "output_type": "execute_result"
    }
   ],
   "source": [
    "longest = max(python_class.values(), key=len)\n",
    "longest"
   ]
  }
 ],
 "metadata": {
  "kernelspec": {
   "display_name": "Python [conda env:pytools_small]",
   "language": "python",
   "name": "conda-env-pytools_small-py"
  },
  "language_info": {
   "codemirror_mode": {
    "name": "ipython",
    "version": 3
   },
   "file_extension": ".py",
   "mimetype": "text/x-python",
   "name": "python",
   "nbconvert_exporter": "python",
   "pygments_lexer": "ipython3",
   "version": "3.6.13"
  }
 },
 "nbformat": 4,
 "nbformat_minor": 5
}
